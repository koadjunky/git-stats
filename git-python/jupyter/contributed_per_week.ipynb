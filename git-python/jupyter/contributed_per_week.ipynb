{
 "cells": [
  {
   "cell_type": "code",
   "execution_count": null,
   "metadata": {},
   "outputs": [],
   "source": [
    "import os\n",
    "import sys\n",
    "from pathlib import Path\n",
    "sys.path.append(str(Path(os.getcwd()).parent / \"src\"))\n",
    "\n",
    "import pandas as pd\n",
    "import numpy as np\n",
    "import plotly.express as px"
   ]
  },
  {
   "cell_type": "code",
   "execution_count": null,
   "metadata": {},
   "outputs": [],
   "source": [
    "commits = pd.read_csv('commits.csv', index_col=0, parse_dates=['date'])\n",
    "df = commits.sort_values(by='date').reset_index().drop(columns=['index'])"
   ]
  },
  {
   "cell_type": "code",
   "execution_count": null,
   "metadata": {},
   "outputs": [],
   "source": [
    "from private import email_dict\n",
    "df = df.replace({'email': email_dict})"
   ]
  },
  {
   "cell_type": "code",
   "execution_count": null,
   "metadata": {},
   "outputs": [],
   "source": [
    "df = df.loc[~df[\"path\"].astype(str).str.endswith(\"package-lock.json\")]\n",
    "df = df.loc[~df[\"path\"].astype(str).str.endswith(\"custom.css\")]\n",
    "df = df.loc[~df[\"path\"].astype(str).str.endswith(\"custom.css.map\")]\n",
    "df = df.loc[~df[\"path\"].astype(str).str.endswith(\"realm.json\")]\n",
    "df = df.loc[~df[\"path\"].astype(str).str.endswith(\"gradlew\")]\n",
    "df = df.loc[~df[\"path\"].astype(str).str.endswith(\"gradlew.bat\")]\n",
    "df = df.loc[~df[\"path\"].astype(str).str.endswith(\".png\")]\n",
    "df = df.loc[~df[\"path\"].astype(str).str.endswith(\".jar\")]\n",
    "df = df.loc[~df[\"path\"].astype(str).str.startswith(\"build/\")]"
   ]
  },
  {
   "cell_type": "code",
   "execution_count": null,
   "metadata": {},
   "outputs": [],
   "source": [
    "df['yw'].min()"
   ]
  },
  {
   "cell_type": "code",
   "execution_count": null,
   "metadata": {},
   "outputs": [],
   "source": [
    "df['weight'] = df['ins'] + df['del']\n",
    "df['yw'] = df['date'].dt.isocalendar().year * 100 + df['date'].dt.isocalendar().week\n",
    "\n",
    "df1 = df.drop(columns=['date', 'ins', 'del', 'dir', 'path']).groupby(['email', 'yw']).sum().reset_index()"
   ]
  },
  {
   "cell_type": "code",
   "execution_count": null,
   "metadata": {},
   "outputs": [],
   "source": [
    "# Fill empty indexes\n",
    "emails = df1['email'].unique()\n",
    "weeks = [list(range(100*y+1, 100*y+53)) for y in range(2009, 2024)]\n",
    "weeks = [item for sublist in weeks for item in sublist]\n",
    "index_template = pd.MultiIndex.from_product([emails, weeks], names=[\"email\", \"yw\"])\n",
    "df_template = pd.DataFrame(index = index_template).reset_index()\n",
    "df_template['zero'] = 0\n",
    "df2 = df_template.set_index(keys=['email', 'yw']).join(df1.set_index(keys=['email', 'yw'])).fillna(0)\n",
    "df2['weight'] = df2['weight'] + df2['zero']\n",
    "df2 = df2.reset_index()"
   ]
  },
  {
   "cell_type": "code",
   "execution_count": null,
   "metadata": {},
   "outputs": [],
   "source": [
    "import datetime\n",
    "df2['year'] = df2['yw'] // 100\n",
    "df2['week'] = df2['yw'] % 100\n",
    "df2['date'] = df2.apply(lambda row: datetime.datetime.strptime(\"{}-{}-7\".format(row['year'], row['week']), \"%G-%V-%u\"), axis=1)"
   ]
  },
  {
   "cell_type": "code",
   "execution_count": null,
   "metadata": {},
   "outputs": [],
   "source": [
    "df2['weight'] = df2['weight'].clip(upper=2000)"
   ]
  },
  {
   "cell_type": "code",
   "execution_count": null,
   "metadata": {},
   "outputs": [],
   "source": [
    "df2['moving'] = df2.groupby(['email']).rolling(2, 1)['weight'].mean().droplevel(level=[0])"
   ]
  },
  {
   "cell_type": "code",
   "execution_count": null,
   "metadata": {},
   "outputs": [],
   "source": [
    "df2 = df2.loc[df2['yw'] > 202200]\n",
    "df2 = df2.loc[df2['yw'] < 202310]"
   ]
  },
  {
   "cell_type": "code",
   "execution_count": null,
   "metadata": {},
   "outputs": [],
   "source": [
    "fig = px.line(df2, x='date', y='moving', color='email', markers=True)\n",
    "fig.show()"
   ]
  },
  {
   "cell_type": "code",
   "execution_count": null,
   "metadata": {},
   "outputs": [],
   "source": [
    "fig = px.line(df2, x='date', y='moving', color='email', markers=True)\n",
    "fig.show()"
   ]
  },
  {
   "cell_type": "code",
   "execution_count": null,
   "metadata": {},
   "outputs": [],
   "source": []
  }
 ],
 "metadata": {
  "interpreter": {
   "hash": "a77bf6d16068f43300ce1f9c774561cc0df60e307ecfc32986898ab6c6ca3ba9"
  },
  "kernelspec": {
   "display_name": "Python 3 (ipykernel)",
   "language": "python",
   "name": "python3"
  },
  "language_info": {
   "codemirror_mode": {
    "name": "ipython",
    "version": 3
   },
   "file_extension": ".py",
   "mimetype": "text/x-python",
   "name": "python",
   "nbconvert_exporter": "python",
   "pygments_lexer": "ipython3",
   "version": "3.9.6"
  }
 },
 "nbformat": 4,
 "nbformat_minor": 2
}
