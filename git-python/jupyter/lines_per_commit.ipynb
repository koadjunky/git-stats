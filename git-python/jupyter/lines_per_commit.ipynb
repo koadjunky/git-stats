{
 "cells": [
  {
   "cell_type": "code",
   "execution_count": null,
   "id": "4aabdce0",
   "metadata": {},
   "outputs": [],
   "source": [
    "import os\n",
    "import sys\n",
    "from pathlib import Path\n",
    "sys.path.append(str(Path(os.getcwd()).parent / \"src\"))\n",
    "\n",
    "import pandas as pd\n",
    "import numpy as np\n",
    "import plotly.express as px\n",
    "\n",
    "pd.set_option('display.max_colwidth', None)"
   ]
  },
  {
   "cell_type": "code",
   "execution_count": null,
   "id": "5de8c75b",
   "metadata": {},
   "outputs": [],
   "source": [
    "period = pd.Period('2023')"
   ]
  },
  {
   "cell_type": "code",
   "execution_count": null,
   "id": "074966b4",
   "metadata": {},
   "outputs": [],
   "source": [
    "from private import email_dict, team_emails, team_contracts\n",
    "from holiday import pl_bd\n",
    "\n",
    "df = pd.read_csv('commits.csv', index_col=0, parse_dates=['date'])\n",
    "df = df.replace({'email': email_dict})\n",
    "df = df.loc[(df['date'] >= period.start_time) & (df['date'] <= period.end_time)]\n"
   ]
  },
  {
   "cell_type": "code",
   "execution_count": null,
   "id": "34447d33",
   "metadata": {},
   "outputs": [],
   "source": [
    "df = df.loc[~df['path'].astype(str).str.startswith('wp-content/uploads/')]\n",
    "df = df.loc[~df['path'].astype(str).str.startswith('wp-content/plugins/')]\n",
    "df = df.loc[~df['path'].astype(str).str.startswith('wp-content/themes/')]\n",
    "df = df.loc[~df['path'].astype(str).str.startswith('wp-content/wflogs/')]\n",
    "df = df.loc[~df['path'].astype(str).str.startswith('wp-includes/')]\n",
    "df = df.loc[~df['path'].astype(str).str.startswith('wp-admin/')]\n",
    "df = df.loc[~df['path'].astype(str).str.startswith('wp-login.php')]\n",
    "df = df.loc[~df['path'].astype(str).str.startswith('dm/src/main/resources/VAADIN/themes/at/styles.css')]\n",
    "df = df.loc[~df['path'].astype(str).str.startswith('wp-includes/js/plupload/moxie.js')]\n",
    "df = df.loc[~df['path'].astype(str).str.startswith('grafana/longevity')]\n",
    "df = df.loc[~df[\"path\"].astype(str).str.startswith(\"build/\")]\n",
    "df = df.loc[~df['path'].astype(str).str.endswith('package-lock.json')]\n",
    "df = df.loc[~df['path'].astype(str).str.endswith('yarn.lock')]\n",
    "df = df.loc[~df['path'].astype(str).str.endswith('pl_PL.po')]\n",
    "df = df.loc[~df['path'].astype(str).str.endswith('jquery.js')]\n",
    "df = df.loc[~df['path'].astype(str).str.endswith('bootstrap.min.css')]\n",
    "df = df.loc[~df['path'].astype(str).str.endswith('FIX44.xml')]\n",
    "df = df.loc[~df[\"path\"].astype(str).str.endswith(\"gradlew\")]\n",
    "df = df.loc[~df[\"path\"].astype(str).str.endswith(\"gradlew.bat\")]\n",
    "df = df.loc[~df[\"path\"].astype(str).str.endswith(\".png\")]\n",
    "df = df.loc[~df[\"path\"].astype(str).str.endswith(\".jar\")]\n",
    "df = df.loc[~df[\"path\"].astype(str).str.endswith(\".log\")]\n",
    "df = df.loc[~df[\"path\"].astype(str).str.endswith(\".sql\")]\n",
    "df = df.loc[~df[\"path\"].astype(str).str.endswith(\".xsl\")]\n",
    "df = df.loc[~df[\"path\"].astype(str).str.endswith(\".backup\")]\n",
    "df = df.loc[~df[\"path\"].astype(str).str.endswith(\".back\")]\n",
    "df = df.loc[~df[\"path\"].astype(str).str.endswith(\".snap\")]\n",
    "df = df.loc[~df[\"path\"].astype(str).str.endswith(\".tfstate\")]\n",
    "df = df.loc[(~df[\"path\"].astype(str).str.endswith(\"custom.css\")) | (df['del'] != 0)] # TODO: eliminate commit\n",
    "df = df.loc[~df['path'].astype(str).str.contains('realm.*json')]\n",
    "df = df.loc[~df['path'].astype(str).str.contains('/fontawesome/')]\n",
    "df = df.loc[~df['path'].astype(str).str.contains('/generated/')]\n",
    "df = df.loc[~df['path'].astype(str).str.contains('/grafana/.*json')]\n",
    "\n",
    "df['mod'] = df['ins'] + df['del']\n",
    "df.sort_values('mod').tail(30)"
   ]
  },
  {
   "cell_type": "code",
   "execution_count": null,
   "id": "ee63ccd0",
   "metadata": {},
   "outputs": [],
   "source": []
  }
 ],
 "metadata": {
  "kernelspec": {
   "display_name": "Python 3 (ipykernel)",
   "language": "python",
   "name": "python3"
  },
  "language_info": {
   "codemirror_mode": {
    "name": "ipython",
    "version": 3
   },
   "file_extension": ".py",
   "mimetype": "text/x-python",
   "name": "python",
   "nbconvert_exporter": "python",
   "pygments_lexer": "ipython3",
   "version": "3.9.6"
  }
 },
 "nbformat": 4,
 "nbformat_minor": 5
}
