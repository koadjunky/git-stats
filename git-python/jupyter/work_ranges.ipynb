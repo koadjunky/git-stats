{
 "cells": [
  {
   "cell_type": "code",
   "execution_count": null,
   "id": "0bde0226",
   "metadata": {},
   "outputs": [],
   "source": [
    "import os\n",
    "import sys\n",
    "from pathlib import Path\n",
    "sys.path.append(str(Path(os.getcwd()).parent / \"src\"))\n",
    "\n",
    "import pandas as pd\n",
    "import numpy as np\n",
    "import plotly.express as px\n"
   ]
  },
  {
   "cell_type": "code",
   "execution_count": null,
   "id": "ebda3729",
   "metadata": {},
   "outputs": [],
   "source": [
    "df = pd.read_csv('commits.csv', index_col=0, parse_dates=['date'])"
   ]
  },
  {
   "cell_type": "code",
   "execution_count": null,
   "id": "f08cf199",
   "metadata": {},
   "outputs": [],
   "source": [
    "from private import email_dict, team_emails\n",
    "df = df.replace({'email': email_dict})"
   ]
  },
  {
   "cell_type": "code",
   "execution_count": null,
   "id": "f90603a4",
   "metadata": {},
   "outputs": [],
   "source": [
    "contracts = df.groupby('email')['date'].agg(['min', 'max']).reset_index()"
   ]
  },
  {
   "cell_type": "code",
   "execution_count": null,
   "id": "d1747cf3",
   "metadata": {},
   "outputs": [],
   "source": [
    "pd.set_option('display.max_rows', None)\n",
    "contracts.sort_values('min')"
   ]
  },
  {
   "cell_type": "code",
   "execution_count": null,
   "id": "2dc06530",
   "metadata": {},
   "outputs": [],
   "source": [
    "team_contracts = contracts[contracts['email'].isin(team_emails)].sort_values('min')"
   ]
  },
  {
   "cell_type": "code",
   "execution_count": null,
   "id": "576ecdb3",
   "metadata": {},
   "outputs": [],
   "source": [
    "team_contracts"
   ]
  },
  {
   "cell_type": "code",
   "execution_count": null,
   "id": "a3480008",
   "metadata": {},
   "outputs": [],
   "source": []
  }
 ],
 "metadata": {
  "kernelspec": {
   "display_name": "Python 3 (ipykernel)",
   "language": "python",
   "name": "python3"
  },
  "language_info": {
   "codemirror_mode": {
    "name": "ipython",
    "version": 3
   },
   "file_extension": ".py",
   "mimetype": "text/x-python",
   "name": "python",
   "nbconvert_exporter": "python",
   "pygments_lexer": "ipython3",
   "version": "3.9.6"
  }
 },
 "nbformat": 4,
 "nbformat_minor": 5
}
