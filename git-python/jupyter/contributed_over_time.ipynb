{
 "cells": [
  {
   "cell_type": "code",
   "execution_count": null,
   "metadata": {},
   "outputs": [],
   "source": [
    "import pandas as pd\n",
    "import plotly.express as px"
   ]
  },
  {
   "cell_type": "code",
   "execution_count": null,
   "metadata": {},
   "outputs": [],
   "source": [
    "commits = pd.read_csv('commits.csv', index_col=0, parse_dates=['date'])\n",
    "df = commits.sort_values(by='date').reset_index().drop(columns=['index'])"
   ]
  },
  {
   "cell_type": "code",
   "execution_count": null,
   "metadata": {},
   "outputs": [],
   "source": [
    "df['weight'] = df['ins'] + df['del']"
   ]
  },
  {
   "cell_type": "code",
   "execution_count": null,
   "metadata": {},
   "outputs": [],
   "source": [
    "# sum lines by commit (drop repo/file information)\n",
    "df1 = df.drop(columns=['ins', 'del', 'dir', 'path']).groupby(['date', 'email']).sum()\n",
    "# sum previous weight values, by email, for plotting\n",
    "df1['contrib'] = df1.groupby('email')['weight'].transform(pd.Series.cumsum)\n",
    "# convert data, email indexes to columns\n",
    "df2 = df1.reset_index()"
   ]
  },
  {
   "cell_type": "code",
   "execution_count": null,
   "metadata": {},
   "outputs": [],
   "source": [
    "fig = px.line(df2, x='date', y='contrib', color='email', markers=True)\n",
    "fig.show()"
   ]
  }
 ],
 "metadata": {
  "interpreter": {
   "hash": "a77bf6d16068f43300ce1f9c774561cc0df60e307ecfc32986898ab6c6ca3ba9"
  },
  "kernelspec": {
   "display_name": "Python 3.9.6 ('.venv': venv)",
   "language": "python",
   "name": "python3"
  },
  "language_info": {
   "codemirror_mode": {
    "name": "ipython",
    "version": 3
   },
   "file_extension": ".py",
   "mimetype": "text/x-python",
   "name": "python",
   "nbconvert_exporter": "python",
   "pygments_lexer": "ipython3",
   "version": "3.9.6"
  }
 },
 "nbformat": 4,
 "nbformat_minor": 2
}
