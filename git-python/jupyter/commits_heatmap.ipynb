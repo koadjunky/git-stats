{
 "cells": [
  {
   "cell_type": "code",
   "execution_count": null,
   "metadata": {},
   "outputs": [],
   "source": [
    "import os\n",
    "import sys\n",
    "from pathlib import Path\n",
    "sys.path.append(str(Path(os.getcwd()).parent / \"src\"))\n",
    "\n",
    "import pandas as pd\n",
    "import numpy as np\n",
    "import plotly.express as px\n"
   ]
  },
  {
   "cell_type": "code",
   "execution_count": null,
   "metadata": {},
   "outputs": [],
   "source": [
    "commits = pd.read_csv('commits.csv', index_col=0, parse_dates=['date'])"
   ]
  },
  {
   "cell_type": "code",
   "execution_count": null,
   "metadata": {},
   "outputs": [],
   "source": [
    "df = commits.drop(columns=['ins', 'del', 'dir', 'path']).drop_duplicates()\n",
    "hours = df['date'].dt.hour.to_frame(name='hour')\n",
    "weekdays = df['date'].dt.weekday.to_frame(name='weekday')\n",
    "df1 = pd.concat([df, hours, weekdays], axis=1)\n",
    "df2 = pd.crosstab(df1['weekday'], df1['hour'])"
   ]
  },
  {
   "cell_type": "code",
   "execution_count": null,
   "metadata": {},
   "outputs": [],
   "source": [
    "df3 = df2.set_axis(['Monday', 'Tuesday', 'Wednesday', 'Thursday', 'Friday', 'Saturday', 'Sunday'], axis=0)"
   ]
  },
  {
   "cell_type": "code",
   "execution_count": null,
   "metadata": {},
   "outputs": [],
   "source": [
    "fig = px.imshow(df3, text_auto=True, labels=dict(x=\"Hour\", y=\"Weekday\", color=\"Number of commits\"), color_continuous_scale='Reds')\n",
    "fig.update_xaxes(side=\"top\")\n",
    "fig.show()"
   ]
  },
  {
   "cell_type": "code",
   "execution_count": null,
   "metadata": {},
   "outputs": [],
   "source": [
    "from private import email_dict, team_emails\n",
    "df1 = df1.replace({'email': email_dict})"
   ]
  },
  {
   "cell_type": "code",
   "execution_count": null,
   "metadata": {},
   "outputs": [],
   "source": [
    "sorted(df1['email'].unique())"
   ]
  },
  {
   "cell_type": "code",
   "execution_count": null,
   "metadata": {},
   "outputs": [],
   "source": [
    "for email_value in team_emails:\n",
    "    df1_mm = df1[df1['email'] == email_value]\n",
    "    df2_mm = pd.crosstab(df1_mm['weekday'], df1_mm['hour'])\n",
    "    df2_mm = df2_mm.reindex(pd.Index(np.arange(0, 7, 1), name='weekday')).fillna(0)\n",
    "    df2_mm = df2_mm.reindex(columns=pd.Index(np.arange(0, 24, 1))).fillna(0)\n",
    "    df3_mm = df2_mm.set_axis(['Monday', 'Tuesday', 'Wednesday', 'Thursday', 'Friday', 'Saturday', 'Sunday'], axis=0)\n",
    "    fig = px.imshow(df3_mm, text_auto=True, labels=dict(x=\"Hour\", y=\"Weekday\", color=\"Number of commits\"), color_continuous_scale='Reds', title=email_value)\n",
    "    fig.update_xaxes(side=\"top\")\n",
    "    fig.show()"
   ]
  },
  {
   "cell_type": "code",
   "execution_count": null,
   "metadata": {},
   "outputs": [],
   "source": []
  }
 ],
 "metadata": {
  "interpreter": {
   "hash": "a77bf6d16068f43300ce1f9c774561cc0df60e307ecfc32986898ab6c6ca3ba9"
  },
  "kernelspec": {
   "display_name": "Python 3 (ipykernel)",
   "language": "python",
   "name": "python3"
  },
  "language_info": {
   "codemirror_mode": {
    "name": "ipython",
    "version": 3
   },
   "file_extension": ".py",
   "mimetype": "text/x-python",
   "name": "python",
   "nbconvert_exporter": "python",
   "pygments_lexer": "ipython3",
   "version": "3.9.6"
  }
 },
 "nbformat": 4,
 "nbformat_minor": 2
}
