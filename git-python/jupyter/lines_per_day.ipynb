{
 "cells": [
  {
   "cell_type": "code",
   "execution_count": null,
   "id": "79ccb704",
   "metadata": {},
   "outputs": [],
   "source": [
    "import os\n",
    "import sys\n",
    "from pathlib import Path\n",
    "sys.path.append(str(Path(os.getcwd()).parent / \"src\"))\n",
    "\n",
    "import pandas as pd\n",
    "import numpy as np\n",
    "import plotly.express as px\n"
   ]
  },
  {
   "cell_type": "code",
   "execution_count": null,
   "id": "46fa0102",
   "metadata": {},
   "outputs": [],
   "source": [
    "period = pd.Period('2023')"
   ]
  },
  {
   "cell_type": "code",
   "execution_count": null,
   "id": "08203e3f",
   "metadata": {},
   "outputs": [],
   "source": [
    "from holiday import pl_bd\n",
    "vac_days = 30\n",
    "bdays = pd.bdate_range(start=period.start_time, end=period.end_time, freq=pl_bd).size\n",
    "vac_coeff = (bdays - vac_days) / bdays"
   ]
  },
  {
   "cell_type": "code",
   "execution_count": null,
   "id": "51906def",
   "metadata": {},
   "outputs": [],
   "source": [
    "from private import email_dict, team_emails, team_contracts\n",
    "from holiday import pl_bd\n",
    "\n",
    "df = pd.read_csv('commits.csv', index_col=0, parse_dates=['date'])\n",
    "df = df.replace({'email': email_dict})\n",
    "df = df.loc[(df['date'] >= period.start_time) & (df['date'] <= period.end_time)]\n",
    "df['mod'] = df['ins'] + df['del']\n",
    "\n",
    "df = df.loc[~df['path'].astype(str).str.startswith('wp-content/uploads/')]\n",
    "df = df.loc[~df['path'].astype(str).str.startswith('wp-content/plugins/')]\n",
    "df = df.loc[~df['path'].astype(str).str.startswith('wp-content/themes/')]\n",
    "df = df.loc[~df['path'].astype(str).str.startswith('wp-content/wflogs/')]\n",
    "df = df.loc[~df['path'].astype(str).str.startswith('wp-includes/')]\n",
    "df = df.loc[~df['path'].astype(str).str.startswith('wp-admin/')]\n",
    "df = df.loc[~df['path'].astype(str).str.startswith('wp-login.php')]\n",
    "df = df.loc[~df['path'].astype(str).str.startswith('dm/src/main/resources/VAADIN/themes/at/styles.css')]\n",
    "df = df.loc[~df['path'].astype(str).str.startswith('wp-includes/js/plupload/moxie.js')]\n",
    "df = df.loc[~df['path'].astype(str).str.startswith('grafana/longevity')]\n",
    "df = df.loc[~df[\"path\"].astype(str).str.startswith(\"build/\")]\n",
    "df = df.loc[~df['path'].astype(str).str.endswith('package-lock.json')]\n",
    "df = df.loc[~df['path'].astype(str).str.endswith('yarn.lock')]\n",
    "df = df.loc[~df['path'].astype(str).str.endswith('pl_PL.po')]\n",
    "df = df.loc[~df['path'].astype(str).str.endswith('jquery.js')]\n",
    "df = df.loc[~df['path'].astype(str).str.endswith('bootstrap.min.css')]\n",
    "df = df.loc[~df['path'].astype(str).str.endswith('FIX44.xml')]\n",
    "df = df.loc[~df[\"path\"].astype(str).str.endswith(\"gradlew\")]\n",
    "df = df.loc[~df[\"path\"].astype(str).str.endswith(\"gradlew.bat\")]\n",
    "df = df.loc[~df[\"path\"].astype(str).str.endswith(\".png\")]\n",
    "df = df.loc[~df[\"path\"].astype(str).str.endswith(\".jar\")]\n",
    "df = df.loc[~df[\"path\"].astype(str).str.endswith(\".log\")]\n",
    "df = df.loc[~df[\"path\"].astype(str).str.endswith(\".sql\")]\n",
    "df = df.loc[~df[\"path\"].astype(str).str.endswith(\".xsl\")]\n",
    "df = df.loc[~df[\"path\"].astype(str).str.endswith(\".backup\")]\n",
    "df = df.loc[~df[\"path\"].astype(str).str.endswith(\".back\")]\n",
    "df = df.loc[~df[\"path\"].astype(str).str.endswith(\".snap\")]\n",
    "df = df.loc[~df[\"path\"].astype(str).str.endswith(\".tfstate\")]\n",
    "df = df.loc[(~df[\"path\"].astype(str).str.endswith(\"custom.css\")) | (df['del'] != 0)]\n",
    "df = df.loc[~df['path'].astype(str).str.contains('realm.*json')]\n",
    "df = df.loc[~df['path'].astype(str).str.contains('/fontawesome/')]\n",
    "df = df.loc[~df['path'].astype(str).str.contains('/generated/')]\n",
    "df = df.loc[~df['path'].astype(str).str.contains('/grafana/.*json')]\n",
    "\n",
    "df = df.groupby('email')['mod'].agg('sum').reset_index()\n",
    "df = df[df['email'].isin(team_emails)].sort_values('mod')\n",
    "df = df.set_index('email')"
   ]
  },
  {
   "cell_type": "code",
   "execution_count": null,
   "id": "d359d9a4",
   "metadata": {},
   "outputs": [],
   "source": [
    "tc = pd.DataFrame(team_contracts, columns=['email', 'start', 'end'])\n",
    "tc['start_p'] = period.start_time\n",
    "tc['end_p'] = period.end_time\n",
    "tc['start_w'] = tc[['start', 'start_p']].max(axis=1)\n",
    "tc['end_w'] = tc[['end', 'end_p']].min(axis=1)\n",
    "tc['bdays'] = tc.apply(lambda row: pd.bdate_range(start=row['start_w'], end=row['end_w'], freq=pl_bd).size, axis=1)\n",
    "tc['wdays'] = tc['bdays'] * vac_coeff\n",
    "tc = tc.drop(['start', 'end', 'start_p', 'end_p', 'start_w', 'end_w', 'bdays'], axis=1)\n",
    "tc = tc.set_index('email')"
   ]
  },
  {
   "cell_type": "code",
   "execution_count": null,
   "id": "28922952",
   "metadata": {},
   "outputs": [],
   "source": [
    "df = df.merge(tc, left_index=True, right_index=True)\n",
    "df['lpd'] = df['mod'].div(df['wdays']).round()\n",
    "df.sort_values('lpd')"
   ]
  },
  {
   "cell_type": "code",
   "execution_count": null,
   "id": "45017d4b",
   "metadata": {},
   "outputs": [],
   "source": []
  }
 ],
 "metadata": {
  "kernelspec": {
   "display_name": "Python 3 (ipykernel)",
   "language": "python",
   "name": "python3"
  },
  "language_info": {
   "codemirror_mode": {
    "name": "ipython",
    "version": 3
   },
   "file_extension": ".py",
   "mimetype": "text/x-python",
   "name": "python",
   "nbconvert_exporter": "python",
   "pygments_lexer": "ipython3",
   "version": "3.9.6"
  }
 },
 "nbformat": 4,
 "nbformat_minor": 5
}
